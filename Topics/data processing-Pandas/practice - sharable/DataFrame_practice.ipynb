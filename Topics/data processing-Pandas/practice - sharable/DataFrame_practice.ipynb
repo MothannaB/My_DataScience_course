{
 "cells": [
  {
   "cell_type": "markdown",
   "metadata": {},
   "source": [
    "# Class DataFrame: Two-dimensional. An entire table."
   ]
  },
  {
   "cell_type": "code",
   "execution_count": 2,
   "metadata": {},
   "outputs": [],
   "source": [
    "# clean data:\n",
    "    # null values, duplicates, wrong values\n",
    "# get descriptive stats\n",
    "# study correlation between variables\n",
    "#.\n",
    "#."
   ]
  },
  {
   "cell_type": "code",
   "execution_count": 3,
   "metadata": {},
   "outputs": [],
   "source": [
    "# importing libraries\n",
    "import pandas as pd\n",
    "import numpy as np"
   ]
  },
  {
   "cell_type": "code",
   "execution_count": 4,
   "metadata": {},
   "outputs": [
    {
     "data": {
      "text/html": [
       "<div>\n",
       "<style scoped>\n",
       "    .dataframe tbody tr th:only-of-type {\n",
       "        vertical-align: middle;\n",
       "    }\n",
       "\n",
       "    .dataframe tbody tr th {\n",
       "        vertical-align: top;\n",
       "    }\n",
       "\n",
       "    .dataframe thead th {\n",
       "        text-align: right;\n",
       "    }\n",
       "</style>\n",
       "<table border=\"1\" class=\"dataframe\">\n",
       "  <thead>\n",
       "    <tr style=\"text-align: right;\">\n",
       "      <th></th>\n",
       "      <th>Name</th>\n",
       "      <th>Initial</th>\n",
       "      <th>Weight(KG)</th>\n",
       "    </tr>\n",
       "  </thead>\n",
       "  <tbody>\n",
       "    <tr>\n",
       "      <th>0</th>\n",
       "      <td>cat</td>\n",
       "      <td>c</td>\n",
       "      <td>4.500</td>\n",
       "    </tr>\n",
       "    <tr>\n",
       "      <th>2</th>\n",
       "      <td>bird</td>\n",
       "      <td>b</td>\n",
       "      <td>0.054</td>\n",
       "    </tr>\n",
       "    <tr>\n",
       "      <th>3</th>\n",
       "      <td>mouse</td>\n",
       "      <td>m</td>\n",
       "      <td>2.500</td>\n",
       "    </tr>\n",
       "  </tbody>\n",
       "</table>\n",
       "</div>"
      ],
      "text/plain": [
       "    Name Initial  Weight(KG)\n",
       "0    cat       c       4.500\n",
       "2   bird       b       0.054\n",
       "3  mouse       m       2.500"
      ]
     },
     "execution_count": 4,
     "metadata": {},
     "output_type": "execute_result"
    }
   ],
   "source": [
    "# 3 ways to create a DataFrame:\n",
    "\n",
    "# way 1: call pd.DataFrame() and pass a dictionary as an argument(input). a Key will be one column name and the corresponding value will be a whole list representing the column entries\n",
    "# Example:\n",
    "dict1 = {\n",
    "    'Name':['cat', 'dog', 'bird', 'mouse'],\n",
    "    'Initial':['c', 'd', 'b', 'm'],\n",
    "    'Weight(KG)':[4.5, 20, 0.054, 2.5]\n",
    "}\n",
    "pets_df = pd.DataFrame(dict1) \n",
    "\n",
    "pets_df\n",
    "\n",
    "pets_df.loc[[1, 3],['Name', 'Initial']]\n",
    "\n",
    "pets_df.loc[   pets_df['Weight(KG)'] < 5   ]\n",
    "\n"
   ]
  },
  {
   "cell_type": "code",
   "execution_count": 5,
   "metadata": {},
   "outputs": [
    {
     "data": {
      "text/html": [
       "<div>\n",
       "<style scoped>\n",
       "    .dataframe tbody tr th:only-of-type {\n",
       "        vertical-align: middle;\n",
       "    }\n",
       "\n",
       "    .dataframe tbody tr th {\n",
       "        vertical-align: top;\n",
       "    }\n",
       "\n",
       "    .dataframe thead th {\n",
       "        text-align: right;\n",
       "    }\n",
       "</style>\n",
       "<table border=\"1\" class=\"dataframe\">\n",
       "  <thead>\n",
       "    <tr style=\"text-align: right;\">\n",
       "      <th></th>\n",
       "      <th>Name</th>\n",
       "      <th>Initial</th>\n",
       "      <th>Weight(KG)</th>\n",
       "    </tr>\n",
       "  </thead>\n",
       "  <tbody>\n",
       "    <tr>\n",
       "      <th>0</th>\n",
       "      <td>cat</td>\n",
       "      <td>c</td>\n",
       "      <td>4.5</td>\n",
       "    </tr>\n",
       "    <tr>\n",
       "      <th>1</th>\n",
       "      <td>dog</td>\n",
       "      <td>d</td>\n",
       "      <td>20</td>\n",
       "    </tr>\n",
       "    <tr>\n",
       "      <th>2</th>\n",
       "      <td>bird</td>\n",
       "      <td>b</td>\n",
       "      <td>0.054</td>\n",
       "    </tr>\n",
       "    <tr>\n",
       "      <th>3</th>\n",
       "      <td>mouse</td>\n",
       "      <td>m</td>\n",
       "      <td>2.5</td>\n",
       "    </tr>\n",
       "  </tbody>\n",
       "</table>\n",
       "</div>"
      ],
      "text/plain": [
       "    Name Initial Weight(KG)\n",
       "0    cat       c        4.5\n",
       "1    dog       d         20\n",
       "2   bird       b      0.054\n",
       "3  mouse       m        2.5"
      ]
     },
     "execution_count": 5,
     "metadata": {},
     "output_type": "execute_result"
    }
   ],
   "source": [
    "# way 2: call pd.DataFrame() and pass as arguments(inputs):\n",
    "#   1) a list of lists where each list represent a complete row in the DataFrame\n",
    "#   2) a list that contains the column names\n",
    "\n",
    "\n",
    "list1 = [\n",
    "    ['cat', 'c', '4.5'],\n",
    "    ['dog', 'd', '20'],\n",
    "    ['bird', 'b', '0.054'],\n",
    "    ['mouse', 'm', '2.5']\n",
    "]\n",
    "df_columns = ['Name', 'Initial', 'Weight(KG)']\n",
    "pets2 = pd.DataFrame(list1, columns=df_columns)\n",
    "\n",
    "pets2\n"
   ]
  },
  {
   "cell_type": "code",
   "execution_count": 6,
   "metadata": {},
   "outputs": [
    {
     "data": {
      "text/html": [
       "<div>\n",
       "<style scoped>\n",
       "    .dataframe tbody tr th:only-of-type {\n",
       "        vertical-align: middle;\n",
       "    }\n",
       "\n",
       "    .dataframe tbody tr th {\n",
       "        vertical-align: top;\n",
       "    }\n",
       "\n",
       "    .dataframe thead th {\n",
       "        text-align: right;\n",
       "    }\n",
       "</style>\n",
       "<table border=\"1\" class=\"dataframe\">\n",
       "  <thead>\n",
       "    <tr style=\"text-align: right;\">\n",
       "      <th></th>\n",
       "      <th>student</th>\n",
       "      <th>subject</th>\n",
       "      <th>grade</th>\n",
       "    </tr>\n",
       "  </thead>\n",
       "  <tbody>\n",
       "    <tr>\n",
       "      <th>0</th>\n",
       "      <td>James</td>\n",
       "      <td>biology</td>\n",
       "      <td>98</td>\n",
       "    </tr>\n",
       "    <tr>\n",
       "      <th>1</th>\n",
       "      <td>Susan</td>\n",
       "      <td>math</td>\n",
       "      <td>63</td>\n",
       "    </tr>\n",
       "    <tr>\n",
       "      <th>2</th>\n",
       "      <td>Laura</td>\n",
       "      <td>math</td>\n",
       "      <td>67</td>\n",
       "    </tr>\n",
       "    <tr>\n",
       "      <th>3</th>\n",
       "      <td>Linda</td>\n",
       "      <td>biology</td>\n",
       "      <td>99</td>\n",
       "    </tr>\n",
       "    <tr>\n",
       "      <th>4</th>\n",
       "      <td>Linda</td>\n",
       "      <td>art</td>\n",
       "      <td>86</td>\n",
       "    </tr>\n",
       "    <tr>\n",
       "      <th>5</th>\n",
       "      <td>Elizabeth</td>\n",
       "      <td>art</td>\n",
       "      <td>850</td>\n",
       "    </tr>\n",
       "    <tr>\n",
       "      <th>6</th>\n",
       "      <td>David</td>\n",
       "      <td>biology</td>\n",
       "      <td>92</td>\n",
       "    </tr>\n",
       "    <tr>\n",
       "      <th>7</th>\n",
       "      <td>James</td>\n",
       "      <td>art</td>\n",
       "      <td>85</td>\n",
       "    </tr>\n",
       "    <tr>\n",
       "      <th>8</th>\n",
       "      <td>Steven</td>\n",
       "      <td>math</td>\n",
       "      <td>86</td>\n",
       "    </tr>\n",
       "    <tr>\n",
       "      <th>9</th>\n",
       "      <td>bob</td>\n",
       "      <td>math</td>\n",
       "      <td>73</td>\n",
       "    </tr>\n",
       "    <tr>\n",
       "      <th>10</th>\n",
       "      <td>Elizabeth</td>\n",
       "      <td>biology</td>\n",
       "      <td>75</td>\n",
       "    </tr>\n",
       "    <tr>\n",
       "      <th>11</th>\n",
       "      <td>Daniel</td>\n",
       "      <td>math</td>\n",
       "      <td>92</td>\n",
       "    </tr>\n",
       "    <tr>\n",
       "      <th>12</th>\n",
       "      <td>Laura</td>\n",
       "      <td>biology</td>\n",
       "      <td>93</td>\n",
       "    </tr>\n",
       "    <tr>\n",
       "      <th>13</th>\n",
       "      <td>David</td>\n",
       "      <td>math</td>\n",
       "      <td>84</td>\n",
       "    </tr>\n",
       "    <tr>\n",
       "      <th>14</th>\n",
       "      <td>Michael</td>\n",
       "      <td>math</td>\n",
       "      <td>93</td>\n",
       "    </tr>\n",
       "    <tr>\n",
       "      <th>15</th>\n",
       "      <td>Steven</td>\n",
       "      <td>biology</td>\n",
       "      <td>77</td>\n",
       "    </tr>\n",
       "    <tr>\n",
       "      <th>16</th>\n",
       "      <td>Susan</td>\n",
       "      <td>art</td>\n",
       "      <td>94</td>\n",
       "    </tr>\n",
       "    <tr>\n",
       "      <th>17</th>\n",
       "      <td>Susan</td>\n",
       "      <td>art</td>\n",
       "      <td>94</td>\n",
       "    </tr>\n",
       "    <tr>\n",
       "      <th>18</th>\n",
       "      <td>bob</td>\n",
       "      <td>art</td>\n",
       "      <td>94</td>\n",
       "    </tr>\n",
       "    <tr>\n",
       "      <th>19</th>\n",
       "      <td>bob</td>\n",
       "      <td>biology</td>\n",
       "      <td>89</td>\n",
       "    </tr>\n",
       "    <tr>\n",
       "      <th>20</th>\n",
       "      <td>Daniel</td>\n",
       "      <td>biology</td>\n",
       "      <td>75</td>\n",
       "    </tr>\n",
       "    <tr>\n",
       "      <th>21</th>\n",
       "      <td>David</td>\n",
       "      <td>NaN</td>\n",
       "      <td>94</td>\n",
       "    </tr>\n",
       "    <tr>\n",
       "      <th>22</th>\n",
       "      <td>Elizabeth</td>\n",
       "      <td>math</td>\n",
       "      <td>86</td>\n",
       "    </tr>\n",
       "    <tr>\n",
       "      <th>23</th>\n",
       "      <td>Susan</td>\n",
       "      <td>biology</td>\n",
       "      <td>78</td>\n",
       "    </tr>\n",
       "    <tr>\n",
       "      <th>24</th>\n",
       "      <td>Daniel</td>\n",
       "      <td>art</td>\n",
       "      <td>91</td>\n",
       "    </tr>\n",
       "    <tr>\n",
       "      <th>25</th>\n",
       "      <td>Daniel</td>\n",
       "      <td>art</td>\n",
       "      <td>91</td>\n",
       "    </tr>\n",
       "    <tr>\n",
       "      <th>26</th>\n",
       "      <td>Steven</td>\n",
       "      <td>art</td>\n",
       "      <td>88</td>\n",
       "    </tr>\n",
       "    <tr>\n",
       "      <th>27</th>\n",
       "      <td>Linda</td>\n",
       "      <td>math</td>\n",
       "      <td>66</td>\n",
       "    </tr>\n",
       "    <tr>\n",
       "      <th>28</th>\n",
       "      <td>Laura</td>\n",
       "      <td>art</td>\n",
       "      <td>97</td>\n",
       "    </tr>\n",
       "    <tr>\n",
       "      <th>29</th>\n",
       "      <td>James</td>\n",
       "      <td>math</td>\n",
       "      <td>92</td>\n",
       "    </tr>\n",
       "    <tr>\n",
       "      <th>30</th>\n",
       "      <td>Michael</td>\n",
       "      <td>art</td>\n",
       "      <td>88</td>\n",
       "    </tr>\n",
       "    <tr>\n",
       "      <th>31</th>\n",
       "      <td>Michael</td>\n",
       "      <td>biology</td>\n",
       "      <td>89</td>\n",
       "    </tr>\n",
       "  </tbody>\n",
       "</table>\n",
       "</div>"
      ],
      "text/plain": [
       "      student  subject  grade\n",
       "0       James  biology     98\n",
       "1       Susan     math     63\n",
       "2       Laura     math     67\n",
       "3       Linda  biology     99\n",
       "4       Linda      art     86\n",
       "5   Elizabeth      art    850\n",
       "6       David  biology     92\n",
       "7       James      art     85\n",
       "8      Steven     math     86\n",
       "9         bob     math     73\n",
       "10  Elizabeth  biology     75\n",
       "11     Daniel     math     92\n",
       "12      Laura  biology     93\n",
       "13      David     math     84\n",
       "14    Michael     math     93\n",
       "15     Steven  biology     77\n",
       "16      Susan      art     94\n",
       "17      Susan      art     94\n",
       "18        bob      art     94\n",
       "19        bob  biology     89\n",
       "20     Daniel  biology     75\n",
       "21      David      NaN     94\n",
       "22  Elizabeth     math     86\n",
       "23      Susan  biology     78\n",
       "24     Daniel      art     91\n",
       "25     Daniel      art     91\n",
       "26     Steven      art     88\n",
       "27      Linda     math     66\n",
       "28      Laura      art     97\n",
       "29      James     math     92\n",
       "30    Michael      art     88\n",
       "31    Michael  biology     89"
      ]
     },
     "execution_count": 6,
     "metadata": {},
     "output_type": "execute_result"
    }
   ],
   "source": [
    "# way 3: read table data from an external file\n",
    "file_name = 'resources/grades_data.csv'\n",
    "#use the read_csv() function from pandas to read the data and store in a DataFrame \n",
    "grades_df = pd.read_csv(file_name)\n",
    "\n",
    "grades_df"
   ]
  },
  {
   "cell_type": "markdown",
   "metadata": {},
   "source": [
    "# DataFrame attributes(data fields)"
   ]
  },
  {
   "cell_type": "code",
   "execution_count": 7,
   "metadata": {},
   "outputs": [
    {
     "name": "stdout",
     "output_type": "stream",
     "text": [
      "<class 'pandas.core.frame.DataFrame'>\n",
      "RangeIndex: 32 entries, 0 to 31\n",
      "Data columns (total 3 columns):\n",
      " #   Column   Non-Null Count  Dtype \n",
      "---  ------   --------------  ----- \n",
      " 0   student  32 non-null     object\n",
      " 1   subject  31 non-null     object\n",
      " 2   grade    32 non-null     int64 \n",
      "dtypes: int64(1), object(2)\n",
      "memory usage: 896.0+ bytes\n"
     ]
    }
   ],
   "source": [
    "# What is the data type of each column\n",
    "grades_df.dtypes\n",
    "\n",
    "# print out the DataFrame index\n",
    "grades_df.index\n",
    "\n",
    "# get the number of dimensions(axes) in the DataFrame\n",
    "grades_df.ndim\n",
    "\n",
    "# get the axes of the DataFrame(remember: DataFrames are Two-dimensional so there are two axes)\n",
    "grades_df.axes\n",
    "\n",
    "\n",
    "# get the name of the columns\n",
    "grades_df.columns\n",
    "\n",
    "\n",
    "# # get the shape of the DataFrame(number of rows & number of columns)\n",
    "grades_df.shape\n",
    "\n",
    "# get the number of elements in the DataFrame\n",
    "grades_df.size\n",
    "\n",
    "grades_df.info()\n",
    "\n"
   ]
  },
  {
   "cell_type": "code",
   "execution_count": 8,
   "metadata": {},
   "outputs": [
    {
     "name": "stdout",
     "output_type": "stream",
     "text": [
      "<class 'pandas.core.frame.DataFrame'>\n",
      "RangeIndex: 32 entries, 0 to 31\n",
      "Data columns (total 3 columns):\n",
      " #   Column   Non-Null Count  Dtype \n",
      "---  ------   --------------  ----- \n",
      " 0   student  32 non-null     object\n",
      " 1   subject  31 non-null     object\n",
      " 2   grade    32 non-null     int64 \n",
      "dtypes: int64(1), object(2)\n",
      "memory usage: 896.0+ bytes\n"
     ]
    }
   ],
   "source": [
    "grades_df.info()\n",
    "\n"
   ]
  },
  {
   "cell_type": "markdown",
   "metadata": {},
   "source": [
    "# DataFrame methods(functions)"
   ]
  },
  {
   "cell_type": "code",
   "execution_count": 9,
   "metadata": {},
   "outputs": [
    {
     "data": {
      "text/html": [
       "<div>\n",
       "<style scoped>\n",
       "    .dataframe tbody tr th:only-of-type {\n",
       "        vertical-align: middle;\n",
       "    }\n",
       "\n",
       "    .dataframe tbody tr th {\n",
       "        vertical-align: top;\n",
       "    }\n",
       "\n",
       "    .dataframe thead th {\n",
       "        text-align: right;\n",
       "    }\n",
       "</style>\n",
       "<table border=\"1\" class=\"dataframe\">\n",
       "  <thead>\n",
       "    <tr style=\"text-align: right;\">\n",
       "      <th></th>\n",
       "      <th>student</th>\n",
       "      <th>subject</th>\n",
       "      <th>grade</th>\n",
       "    </tr>\n",
       "  </thead>\n",
       "  <tbody>\n",
       "    <tr>\n",
       "      <th>28</th>\n",
       "      <td>Laura</td>\n",
       "      <td>art</td>\n",
       "      <td>97</td>\n",
       "    </tr>\n",
       "    <tr>\n",
       "      <th>29</th>\n",
       "      <td>James</td>\n",
       "      <td>math</td>\n",
       "      <td>92</td>\n",
       "    </tr>\n",
       "    <tr>\n",
       "      <th>30</th>\n",
       "      <td>Michael</td>\n",
       "      <td>art</td>\n",
       "      <td>88</td>\n",
       "    </tr>\n",
       "    <tr>\n",
       "      <th>31</th>\n",
       "      <td>Michael</td>\n",
       "      <td>biology</td>\n",
       "      <td>89</td>\n",
       "    </tr>\n",
       "  </tbody>\n",
       "</table>\n",
       "</div>"
      ],
      "text/plain": [
       "    student  subject  grade\n",
       "28    Laura      art     97\n",
       "29    James     math     92\n",
       "30  Michael      art     88\n",
       "31  Michael  biology     89"
      ]
     },
     "execution_count": 9,
     "metadata": {},
     "output_type": "execute_result"
    }
   ],
   "source": [
    "# Get the first 7 rows in the DataFrame using the function 'head()'\n",
    "grades_df.head()\n",
    "\n",
    "# Get the last 4 rows in the DataFrame using the function 'tail()'\n",
    "grades_df.tail(4)"
   ]
  },
  {
   "cell_type": "code",
   "execution_count": 10,
   "metadata": {},
   "outputs": [
    {
     "data": {
      "text/plain": [
       "pandas.core.series.Series"
      ]
     },
     "execution_count": 10,
     "metadata": {},
     "output_type": "execute_result"
    }
   ],
   "source": [
    "\n",
    "# Get the 'student' column from the DataFrame. What is the data type of the returned object?\n",
    "\n",
    "temp = grades_df['grade']\n",
    "type(temp)\n",
    "# Get the 'grades' column from the DataFrame and store in a variable. What is the data type of the returned object?\n"
   ]
  },
  {
   "cell_type": "code",
   "execution_count": 11,
   "metadata": {},
   "outputs": [
    {
     "data": {
      "text/plain": [
       "student    30\n",
       "subject    29\n",
       "grade      30\n",
       "dtype: int64"
      ]
     },
     "execution_count": 11,
     "metadata": {},
     "output_type": "execute_result"
    }
   ],
   "source": [
    "# Get the count of non-null values using the function 'count()'\n",
    "\n",
    "grades_df.count()\n",
    "\n",
    "# check which rows are duplicated, then count them up\n",
    "duplicates = grades_df.duplicated()\n",
    "duplicates.sum()\n",
    "# drop the duplicated rows then count the rows to make sure they've been deleted.\n",
    "\n",
    "grades_df = grades_df.drop_duplicates()\n",
    "grades_df.count()"
   ]
  },
  {
   "cell_type": "code",
   "execution_count": 12,
   "metadata": {},
   "outputs": [
    {
     "name": "stderr",
     "output_type": "stream",
     "text": [
      "c:\\Users\\batta\\anaconda3\\envs\\PythonData\\lib\\site-packages\\pandas\\core\\indexing.py:1765: SettingWithCopyWarning: \n",
      "A value is trying to be set on a copy of a slice from a DataFrame.\n",
      "Try using .loc[row_indexer,col_indexer] = value instead\n",
      "\n",
      "See the caveats in the documentation: https://pandas.pydata.org/pandas-docs/stable/user_guide/indexing.html#returning-a-view-versus-a-copy\n",
      "  isetter(loc, value)\n"
     ]
    },
    {
     "data": {
      "text/html": [
       "<div>\n",
       "<style scoped>\n",
       "    .dataframe tbody tr th:only-of-type {\n",
       "        vertical-align: middle;\n",
       "    }\n",
       "\n",
       "    .dataframe tbody tr th {\n",
       "        vertical-align: top;\n",
       "    }\n",
       "\n",
       "    .dataframe thead th {\n",
       "        text-align: right;\n",
       "    }\n",
       "</style>\n",
       "<table border=\"1\" class=\"dataframe\">\n",
       "  <thead>\n",
       "    <tr style=\"text-align: right;\">\n",
       "      <th></th>\n",
       "      <th>student</th>\n",
       "      <th>subject</th>\n",
       "      <th>grade</th>\n",
       "    </tr>\n",
       "  </thead>\n",
       "  <tbody>\n",
       "    <tr>\n",
       "      <th>6</th>\n",
       "      <td>David</td>\n",
       "      <td>biology</td>\n",
       "      <td>92</td>\n",
       "    </tr>\n",
       "    <tr>\n",
       "      <th>13</th>\n",
       "      <td>David</td>\n",
       "      <td>math</td>\n",
       "      <td>84</td>\n",
       "    </tr>\n",
       "    <tr>\n",
       "      <th>21</th>\n",
       "      <td>David</td>\n",
       "      <td>art</td>\n",
       "      <td>94</td>\n",
       "    </tr>\n",
       "  </tbody>\n",
       "</table>\n",
       "</div>"
      ],
      "text/plain": [
       "   student  subject  grade\n",
       "6    David  biology     92\n",
       "13   David     math     84\n",
       "21   David      art     94"
      ]
     },
     "execution_count": 12,
     "metadata": {},
     "output_type": "execute_result"
    }
   ],
   "source": [
    "# Does any of the columns contain null values(use the isna() function)? If yes:\n",
    "grades_df.isnull().sum()\n",
    "\n",
    "# 1) isolate the column and check its entries\n",
    "grades_df['subject']\n",
    "\n",
    "# 2) use the loc attribute to isolate the grades of the student with the missing value\n",
    "grades_df.loc[  grades_df['student']  == 'David' ]\n",
    "\n",
    "# 3) can you check what the value of null cell should have been? If yes, fill that cell with the correct value using the loc attribute, and then verify if it was filled correctly.\n",
    "\n",
    "grades_df.loc[21, 'subject'] = 'art'\n",
    "grades_df.loc[  grades_df['student']  == 'David' ]\n",
    "\n"
   ]
  },
  {
   "cell_type": "code",
   "execution_count": 23,
   "metadata": {},
   "outputs": [
    {
     "name": "stderr",
     "output_type": "stream",
     "text": [
      "c:\\Users\\batta\\anaconda3\\envs\\PythonData\\lib\\site-packages\\pandas\\core\\indexing.py:1765: SettingWithCopyWarning: \n",
      "A value is trying to be set on a copy of a slice from a DataFrame.\n",
      "Try using .loc[row_indexer,col_indexer] = value instead\n",
      "\n",
      "See the caveats in the documentation: https://pandas.pydata.org/pandas-docs/stable/user_guide/indexing.html#returning-a-view-versus-a-copy\n",
      "  isetter(loc, value)\n"
     ]
    },
    {
     "data": {
      "text/plain": [
       "85"
      ]
     },
     "execution_count": 23,
     "metadata": {},
     "output_type": "execute_result"
    }
   ],
   "source": [
    "# check to see if any grades are wrong, i.e. less than 0 or greater than 100. Correct the cell values if possible\n",
    "grades_df.loc[   (grades_df['grade'] <0) |  (grades_df['grade'] > 100)  ]\n",
    "\n",
    "grades_df.loc[ 5, 'grade'] = 85\n",
    "\n",
    "grades_df.loc[ 5, 'grade']\n"
   ]
  },
  {
   "cell_type": "code",
   "execution_count": 28,
   "metadata": {},
   "outputs": [
    {
     "data": {
      "text/plain": [
       "10"
      ]
     },
     "execution_count": 28,
     "metadata": {},
     "output_type": "execute_result"
    }
   ],
   "source": [
    "# print out the student names without replication.\n",
    "students = grades_df['student'].unique()\n",
    "students\n",
    "# print out the student subjects without replication.\n",
    "subjects = grades_df['subject'].unique()\n",
    "len(students)"
   ]
  },
  {
   "cell_type": "code",
   "execution_count": 35,
   "metadata": {},
   "outputs": [
    {
     "data": {
      "text/html": [
       "<div>\n",
       "<style scoped>\n",
       "    .dataframe tbody tr th:only-of-type {\n",
       "        vertical-align: middle;\n",
       "    }\n",
       "\n",
       "    .dataframe tbody tr th {\n",
       "        vertical-align: top;\n",
       "    }\n",
       "\n",
       "    .dataframe thead th {\n",
       "        text-align: right;\n",
       "    }\n",
       "</style>\n",
       "<table border=\"1\" class=\"dataframe\">\n",
       "  <thead>\n",
       "    <tr style=\"text-align: right;\">\n",
       "      <th></th>\n",
       "      <th>lowest_grade</th>\n",
       "      <th>highest_grade</th>\n",
       "      <th>average_grade</th>\n",
       "    </tr>\n",
       "    <tr>\n",
       "      <th>subject</th>\n",
       "      <th></th>\n",
       "      <th></th>\n",
       "      <th></th>\n",
       "    </tr>\n",
       "  </thead>\n",
       "  <tbody>\n",
       "    <tr>\n",
       "      <th>art</th>\n",
       "      <td>85</td>\n",
       "      <td>97</td>\n",
       "      <td>90.2</td>\n",
       "    </tr>\n",
       "    <tr>\n",
       "      <th>biology</th>\n",
       "      <td>75</td>\n",
       "      <td>99</td>\n",
       "      <td>86.5</td>\n",
       "    </tr>\n",
       "    <tr>\n",
       "      <th>math</th>\n",
       "      <td>63</td>\n",
       "      <td>93</td>\n",
       "      <td>80.2</td>\n",
       "    </tr>\n",
       "  </tbody>\n",
       "</table>\n",
       "</div>"
      ],
      "text/plain": [
       "         lowest_grade  highest_grade  average_grade\n",
       "subject                                            \n",
       "art                85             97           90.2\n",
       "biology            75             99           86.5\n",
       "math               63             93           80.2"
      ]
     },
     "execution_count": 35,
     "metadata": {},
     "output_type": "execute_result"
    }
   ],
   "source": [
    "# group the grades by subject and get the lowest, highest, and the average grade.\n",
    "min_grades_by_subject = grades_df.groupby('subject').min()['grade']\n",
    "\n",
    "\n",
    "max_grades_by_subject = grades_df.groupby('subject').max()['grade']\n",
    "\n",
    "\n",
    "\n",
    "average_grades_by_subject = grades_df.groupby('subject').mean()['grade']\n",
    "\n",
    "\n",
    "subject_aggregates = pd.DataFrame({\n",
    "'lowest_grade': min_grades_by_subject, 'highest_grade': max_grades_by_subject, 'average_grade': average_grades_by_subject\n",
    "\n",
    "})\n",
    "\n",
    "subject_aggregates\n"
   ]
  },
  {
   "cell_type": "code",
   "execution_count": 37,
   "metadata": {},
   "outputs": [
    {
     "data": {
      "text/html": [
       "<div>\n",
       "<style scoped>\n",
       "    .dataframe tbody tr th:only-of-type {\n",
       "        vertical-align: middle;\n",
       "    }\n",
       "\n",
       "    .dataframe tbody tr th {\n",
       "        vertical-align: top;\n",
       "    }\n",
       "\n",
       "    .dataframe thead th {\n",
       "        text-align: right;\n",
       "    }\n",
       "</style>\n",
       "<table border=\"1\" class=\"dataframe\">\n",
       "  <thead>\n",
       "    <tr style=\"text-align: right;\">\n",
       "      <th></th>\n",
       "      <th>lowest_grade</th>\n",
       "      <th>highest_grade</th>\n",
       "      <th>average_grade</th>\n",
       "    </tr>\n",
       "    <tr>\n",
       "      <th>student</th>\n",
       "      <th></th>\n",
       "      <th></th>\n",
       "      <th></th>\n",
       "    </tr>\n",
       "  </thead>\n",
       "  <tbody>\n",
       "    <tr>\n",
       "      <th>Daniel</th>\n",
       "      <td>75</td>\n",
       "      <td>92</td>\n",
       "      <td>86.000000</td>\n",
       "    </tr>\n",
       "    <tr>\n",
       "      <th>David</th>\n",
       "      <td>84</td>\n",
       "      <td>94</td>\n",
       "      <td>90.000000</td>\n",
       "    </tr>\n",
       "    <tr>\n",
       "      <th>Elizabeth</th>\n",
       "      <td>75</td>\n",
       "      <td>86</td>\n",
       "      <td>82.000000</td>\n",
       "    </tr>\n",
       "    <tr>\n",
       "      <th>James</th>\n",
       "      <td>85</td>\n",
       "      <td>98</td>\n",
       "      <td>91.666667</td>\n",
       "    </tr>\n",
       "    <tr>\n",
       "      <th>Laura</th>\n",
       "      <td>67</td>\n",
       "      <td>97</td>\n",
       "      <td>85.666667</td>\n",
       "    </tr>\n",
       "    <tr>\n",
       "      <th>Linda</th>\n",
       "      <td>66</td>\n",
       "      <td>99</td>\n",
       "      <td>83.666667</td>\n",
       "    </tr>\n",
       "    <tr>\n",
       "      <th>Michael</th>\n",
       "      <td>88</td>\n",
       "      <td>93</td>\n",
       "      <td>90.000000</td>\n",
       "    </tr>\n",
       "    <tr>\n",
       "      <th>Steven</th>\n",
       "      <td>77</td>\n",
       "      <td>88</td>\n",
       "      <td>83.666667</td>\n",
       "    </tr>\n",
       "    <tr>\n",
       "      <th>Susan</th>\n",
       "      <td>63</td>\n",
       "      <td>94</td>\n",
       "      <td>78.333333</td>\n",
       "    </tr>\n",
       "    <tr>\n",
       "      <th>bob</th>\n",
       "      <td>73</td>\n",
       "      <td>94</td>\n",
       "      <td>85.333333</td>\n",
       "    </tr>\n",
       "  </tbody>\n",
       "</table>\n",
       "</div>"
      ],
      "text/plain": [
       "           lowest_grade  highest_grade  average_grade\n",
       "student                                              \n",
       "Daniel               75             92      86.000000\n",
       "David                84             94      90.000000\n",
       "Elizabeth            75             86      82.000000\n",
       "James                85             98      91.666667\n",
       "Laura                67             97      85.666667\n",
       "Linda                66             99      83.666667\n",
       "Michael              88             93      90.000000\n",
       "Steven               77             88      83.666667\n",
       "Susan                63             94      78.333333\n",
       "bob                  73             94      85.333333"
      ]
     },
     "execution_count": 37,
     "metadata": {},
     "output_type": "execute_result"
    }
   ],
   "source": [
    "# group the grades by student and get the lowest grade, highest grade, and the GPA.\n",
    "\n",
    "min_grades_by_student = grades_df.groupby('student').min()['grade']\n",
    "\n",
    "\n",
    "max_grades_by_student = grades_df.groupby('student').max()['grade']\n",
    "\n",
    "\n",
    "\n",
    "average_grades_by_student = grades_df.groupby('student').mean()['grade']\n",
    "\n",
    "\n",
    "student_aggregates = pd.DataFrame({\n",
    "'lowest_grade': min_grades_by_student, 'highest_grade': max_grades_by_student, 'average_grade': average_grades_by_student\n",
    "\n",
    "})\n",
    "\n",
    "student_aggregates\n",
    "\n"
   ]
  },
  {
   "cell_type": "code",
   "execution_count": 38,
   "metadata": {},
   "outputs": [
    {
     "data": {
      "text/plain": [
       "<AxesSubplot:xlabel='subject'>"
      ]
     },
     "execution_count": 38,
     "metadata": {},
     "output_type": "execute_result"
    },
    {
     "data": {
      "image/png": "[encoded data removed]",
      "text/plain": [
       "<Figure size 432x288 with 1 Axes>"
      ]
     },
     "metadata": {
      "needs_background": "light"
     },
     "output_type": "display_data"
    }
   ],
   "source": [
    "# create a chart using the 'subject_aggregates' DataFrame, and set the chart kind to 'bar'\n",
    "subject_aggregates.plot(kind=\"bar\")"
   ]
  },
  {
   "cell_type": "code",
   "execution_count": 59,
   "metadata": {},
   "outputs": [
    {
     "name": "stdout",
     "output_type": "stream",
     "text": [
      "-0.09205968322732071 0.038037883416486166 -0.6286611333413026\n"
     ]
    }
   ],
   "source": [
    "# study the grade correlation between each pair of subjects\n",
    "math_grades = grades_df[grades_df['subject'] == 'math']['grade'].reset_index(drop=True)\n",
    "biology_grades = grades_df[grades_df['subject'] == 'biology']['grade'].reset_index(drop=True)\n",
    "art_grades =  grades_df[grades_df['subject'] == 'art']['grade'].reset_index(drop=True)\n",
    "math_and_bio_cor = math_grades.corr(biology_grades)\n",
    "math_and_art_cor = math_grades.corr(art_grades)\n",
    "biology_and_art_cor = biology_grades.corr(art_grades)\n",
    "print(math_and_bio_cor, math_and_art_cor, biology_and_art_cor)\n",
    "\n"
   ]
  }
 ],
 "metadata": {
  "interpreter": {
   "hash": "ce278d4ba1194a317b3e44dea2c8779e60a2d078201afcaaf98c031063090bbf"
  },
  "kernelspec": {
   "display_name": "Python 3.7.9 ('PythonData')",
   "language": "python",
   "name": "python3"
  },
  "language_info": {
   "codemirror_mode": {
    "name": "ipython",
    "version": 3
   },
   "file_extension": ".py",
   "mimetype": "text/x-python",
   "name": "python",
   "nbconvert_exporter": "python",
   "pygments_lexer": "ipython3",
   "version": "3.7.9"
  }
 },
 "nbformat": 4,
 "nbformat_minor": 4
}
