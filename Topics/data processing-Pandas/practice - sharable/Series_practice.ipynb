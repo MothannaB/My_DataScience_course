{
 "cells": [
  {
   "cell_type": "markdown",
   "metadata": {},
   "source": [
    "# Class Series: One-dimensional array. A column in a table."
   ]
  },
  {
   "cell_type": "code",
   "execution_count": 31,
   "metadata": {},
   "outputs": [],
   "source": [
    "# importing libraries\n",
    "import pandas as pd\n",
    "import numpy as np"
   ]
  },
  {
   "cell_type": "code",
   "execution_count": 43,
   "metadata": {},
   "outputs": [
    {
     "data": {
      "text/plain": [
       "0     33\n",
       "1     16\n",
       "2     99\n",
       "3    172\n",
       "4    151\n",
       "5    168\n",
       "6    231\n",
       "7    284\n",
       "8     27\n",
       "9     30\n",
       "dtype: int64"
      ]
     },
     "execution_count": 43,
     "metadata": {},
     "output_type": "execute_result"
    }
   ],
   "source": [
    "# way 1: create an object using a python list.\n",
    "list1 = [ 211, 410, 67, np.nan, 83, 1300, 122, np.nan, 194, 116, 410, 44, 500]\n",
    "list2 = [ 33, 16, 99, 172, 151, 168, 231, 284, 27, 30]\n",
    "\n",
    "scores = pd.Series(list1)\n",
    "scores2 = pd.Series(list2)\n",
    "scores2\n"
   ]
  },
  {
   "cell_type": "code",
   "execution_count": 44,
   "metadata": {},
   "outputs": [
    {
     "data": {
      "text/plain": [
       "m1     12\n",
       "m4    222\n",
       "m6     34\n",
       "dtype: int64"
      ]
     },
     "execution_count": 44,
     "metadata": {},
     "output_type": "execute_result"
    }
   ],
   "source": [
    "# way 2: create an object using a python dictionary.\n",
    "dict = {'m1': 12, 'm4': 222, 'm6': 34}\n",
    "s3 = pd.Series(dict)\n",
    "s3"
   ]
  },
  {
   "cell_type": "markdown",
   "metadata": {},
   "source": [
    "# Series attributes(data fields)"
   ]
  },
  {
   "cell_type": "code",
   "execution_count": 34,
   "metadata": {},
   "outputs": [
    {
     "data": {
      "text/plain": [
       "array([ 211.,  410.,   67.,   nan,   83., 1300.,  122.,   nan,  194.,\n",
       "        116.,  410.,   44.,  500.])"
      ]
     },
     "execution_count": 34,
     "metadata": {},
     "output_type": "execute_result"
    }
   ],
   "source": [
    "# What is the data type of the series rows\n",
    "scores.dtype\n",
    "\n",
    "# print out the series index\n",
    "scores.index\n",
    "\n",
    "# get the name of the series\n",
    "scores.name\n",
    "\n",
    "# Change the name of the series to 'Scores'\n",
    "scores.name = 'Scores'\n",
    "\n",
    "# get the name of the series after it has been updated\n",
    "scores.name\n",
    "\n",
    "# get the size of the series\n",
    "scores.size\n",
    "\n",
    "# print out all of the rows in the series as an array\n",
    "scores.values\n",
    "\n"
   ]
  },
  {
   "cell_type": "code",
   "execution_count": 54,
   "metadata": {},
   "outputs": [
    {
     "data": {
      "text/plain": [
       "array([ 211.,  410.,   67.,   nan,   83., 1300.,  122.,   nan,  194.,\n",
       "        116.,  410.,   44.,  500.])"
      ]
     },
     "execution_count": 54,
     "metadata": {},
     "output_type": "execute_result"
    }
   ],
   "source": [
    "scores.values\n",
    "\n"
   ]
  },
  {
   "cell_type": "markdown",
   "metadata": {},
   "source": [
    "# Series methods(functions)"
   ]
  },
  {
   "cell_type": "code",
   "execution_count": 35,
   "metadata": {},
   "outputs": [],
   "source": [
    "# Get the first 7 rows in the series using the function 'head()'\n",
    "scores.head(7)\n",
    "\n",
    "# Get the last 4 rows in the series using the function 'tail()'\n",
    "scores.tail(4)\n",
    "\n",
    "# Get the count of non-null rows in the series using the function 'count()'\n",
    "scores.count()\n",
    "\n",
    "# get the sum, mean, and median of the series elements\n",
    "value_sum = scores.sum()\n",
    "value_mean = scores.mean()\n",
    "value_median = scores.median()\n",
    "\n",
    "\n"
   ]
  },
  {
   "cell_type": "code",
   "execution_count": 59,
   "metadata": {},
   "outputs": [
    {
     "name": "stdout",
     "output_type": "stream",
     "text": [
      "3457.0 314.27272727272725 194.0\n"
     ]
    }
   ],
   "source": [
    "value_sum = scores.sum()\n",
    "value_mean = scores.mean()\n",
    "value_median = scores.median()\n",
    "print(value_sum, value_mean, value_median)\n"
   ]
  },
  {
   "cell_type": "code",
   "execution_count": 39,
   "metadata": {},
   "outputs": [],
   "source": [
    "# print out descriptive statistics of the series\n",
    "scores.describe()\n",
    "\n",
    "\n",
    "# check which rows are null and which are not, then count the null values up\n",
    "scores.isnull().sum()\n",
    "\n",
    "# drop the null values from the original series\n",
    "scores = scores.dropna()\n",
    "\n",
    "# check which rows are duplicated, then count them up\n",
    "scores.duplicated().sum()\n",
    "\n",
    "# drop the duplicated rows from the original series\n",
    "scores = scores.drop_duplicates()\n",
    "\n",
    "# first, we have to reset the index of scores after we'd eliminated null and duplicate rows\n",
    "scores.reset_index(inplace=True, drop=True)\n",
    "\n",
    "# # add/subtract/divide/muliply the elements in scores with the elements in scores2 and store the new series in a variable\n",
    "added_series = scores + scores2\n",
    "\n"
   ]
  },
  {
   "cell_type": "code",
   "execution_count": 74,
   "metadata": {},
   "outputs": [
    {
     "name": "stdout",
     "output_type": "stream",
     "text": [
      "0     211.0\n",
      "1     410.0\n",
      "2      67.0\n",
      "3      83.0\n",
      "4    1300.0\n",
      "5     122.0\n",
      "6     194.0\n",
      "7     116.0\n",
      "8      44.0\n",
      "9     500.0\n",
      "Name: Scores, dtype: float64 0     33\n",
      "1     16\n",
      "2     99\n",
      "3    172\n",
      "4    151\n",
      "5    168\n",
      "6    231\n",
      "7    284\n",
      "8     27\n",
      "9     30\n",
      "dtype: int64\n"
     ]
    },
    {
     "data": {
      "text/plain": [
       "0     178.0\n",
       "1     394.0\n",
       "2     -32.0\n",
       "3     -89.0\n",
       "4    1149.0\n",
       "5     -46.0\n",
       "6     -37.0\n",
       "7    -168.0\n",
       "8      17.0\n",
       "9     470.0\n",
       "dtype: float64"
      ]
     },
     "execution_count": 74,
     "metadata": {},
     "output_type": "execute_result"
    }
   ],
   "source": [
    "scores = scores.dropna()\n",
    "scores\n",
    "\n",
    "scores.duplicated().sum()\n",
    "\n",
    "scores = scores.drop_duplicates()\n",
    "scores\n",
    "\n",
    "# scores.reset_index(inplace=True, drop=True)\n",
    "\n",
    "print(scores, scores2)\n",
    "added_series = scores + scores2\n",
    "sub_series = scores - scores2\n",
    "\n",
    "sub_series"
   ]
  }
 ],
 "metadata": {
  "interpreter": {
   "hash": "ce278d4ba1194a317b3e44dea2c8779e60a2d078201afcaaf98c031063090bbf"
  },
  "kernelspec": {
   "display_name": "Python 3.7.9 ('PythonData')",
   "language": "python",
   "name": "python3"
  },
  "language_info": {
   "codemirror_mode": {
    "name": "ipython",
    "version": 3
   },
   "file_extension": ".py",
   "mimetype": "text/x-python",
   "name": "python",
   "nbconvert_exporter": "python",
   "pygments_lexer": "ipython3",
   "version": "3.7.9"
  }
 },
 "nbformat": 4,
 "nbformat_minor": 4
}
