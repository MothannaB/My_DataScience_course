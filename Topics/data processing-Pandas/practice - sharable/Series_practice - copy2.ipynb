{
 "cells": [
  {
   "cell_type": "markdown",
   "metadata": {},
   "source": [
    "# Series: One-dimensional. A column in a table."
   ]
  },
  {
   "cell_type": "code",
   "execution_count": 4,
   "metadata": {},
   "outputs": [],
   "source": [
    "# importing libraries\n",
    "import pandas as pd\n",
    "import numpy as np"
   ]
  },
  {
   "cell_type": "code",
   "execution_count": 8,
   "metadata": {},
   "outputs": [
    {
     "data": {
      "text/plain": [
       "0     33\n",
       "1     16\n",
       "2     99\n",
       "3    172\n",
       "4    151\n",
       "5    168\n",
       "6    231\n",
       "7    284\n",
       "8     27\n",
       "9     30\n",
       "dtype: int64"
      ]
     },
     "execution_count": 8,
     "metadata": {},
     "output_type": "execute_result"
    }
   ],
   "source": [
    "# way 1: using a python list.\n",
    "list1 = [ 211, 410, 67, np.nan, 83, 1300, 122, np.nan, 194, 116, 410, 44, 500]\n",
    "list2 = [ 33, 16, 99, 172, 151, 168, 231, 284, 27, 30]\n",
    "\n"
   ]
  },
  {
   "cell_type": "code",
   "execution_count": 9,
   "metadata": {},
   "outputs": [
    {
     "data": {
      "text/plain": [
       "m1     12\n",
       "m4    222\n",
       "m6     34\n",
       "dtype: int64"
      ]
     },
     "execution_count": 9,
     "metadata": {},
     "output_type": "execute_result"
    }
   ],
   "source": [
    "# way 2: using a python dictionary.\n",
    "dict = {'m1': 12, 'm4': 222, 'm6': 34}\n",
    "\n"
   ]
  },
  {
   "cell_type": "markdown",
   "metadata": {},
   "source": [
    "# Series attributes"
   ]
  },
  {
   "cell_type": "code",
   "execution_count": 17,
   "metadata": {},
   "outputs": [
    {
     "data": {
      "text/plain": [
       "array([ 211.,  410.,   67.,   nan,   83., 1300.,  122.,   nan,  194.,\n",
       "        116.,  410.,   44.,  500.])"
      ]
     },
     "execution_count": 17,
     "metadata": {},
     "output_type": "execute_result"
    }
   ],
   "source": [
    "# What is the data type of the series rows\n",
    "score.dtype\n",
    "\n",
    "# print out the series index\n",
    "\n",
    "# for x in score.index:\n",
    "#     print(x)\n",
    "\n",
    "# get the name of the series\n",
    "score.name\n",
    "\n",
    "# Change the name of the series to 'Scores'\n",
    "\n",
    "score.name = 'Scores'\n",
    "\n",
    "# get the name of the series after it has been updated\n",
    "\n",
    "score.name\n",
    "\n",
    "\n",
    "# get the size of the series\n",
    "\n",
    "score.size\n",
    "\n",
    "# print out all of the rows in the series as an array\n",
    "\n",
    "score.values\n",
    "\n"
   ]
  },
  {
   "cell_type": "markdown",
   "metadata": {},
   "source": [
    "# Series methods: methods in the class Series have been defined already, all we need to do is to call(use) them on our Series."
   ]
  },
  {
   "cell_type": "code",
   "execution_count": 23,
   "metadata": {},
   "outputs": [
    {
     "name": "stdout",
     "output_type": "stream",
     "text": [
      "3457.0 314.27272727272725 194.0\n"
     ]
    }
   ],
   "source": [
    "# Get the first 7 rows in the series using the method 'head()'\n",
    "score.head(7)\n",
    "\n",
    "\n",
    "# Get the last 4 rows in the series using the method 'tail()'\n",
    "\n",
    "score.tail(4)\n",
    "\n",
    "# Get the count of non-null rows in the series using the method 'count()'\n",
    "\n",
    "score.count()\n",
    "\n",
    "# get the sum, mean, and median of the series elements\n",
    "value_sum = score.sum()\n",
    "value_median = score.median()\n",
    "\n",
    "value_mean = score.mean()\n",
    "\n",
    "print(value_sum, value_mean, value_median)\n",
    "\n",
    "\n"
   ]
  },
  {
   "cell_type": "code",
   "execution_count": 39,
   "metadata": {},
   "outputs": [
    {
     "data": {
      "text/plain": [
       "0     178.0\n",
       "1     394.0\n",
       "2     -32.0\n",
       "3     -89.0\n",
       "4    1149.0\n",
       "5     -46.0\n",
       "6     -37.0\n",
       "7    -168.0\n",
       "8      17.0\n",
       "9     470.0\n",
       "dtype: float64"
      ]
     },
     "execution_count": 39,
     "metadata": {},
     "output_type": "execute_result"
    }
   ],
   "source": [
    "# print out descriptive statistics of the series\n",
    "score.describe()\n",
    "\n",
    "# check which rows are null and which are not, then count the null values up\n",
    "score.isnull().sum()\n",
    "\n",
    "# drop the null values from the original series without creating a copyb\n",
    "\n",
    "\n",
    "score.dropna(inplace=True)\n",
    "score\n",
    "# check which rows are duplicated, then count them up\n",
    "\n",
    "score.duplicated().sum()\n",
    "\n",
    "\n",
    "# drop the duplicated rows from the original series without creating a copy\n",
    "\n",
    "score.drop_duplicates(inplace=True)\n",
    "score\n",
    "\n",
    "# first, we have to reset the index of scores after we'd eliminated null and duplicate rows\n",
    "\n",
    "score.reset_index(inplace=True, drop=True)\n",
    "score\n",
    "# add/subtract/divide/muliply the elements in scores with the elements in scores_extra and store the new series in a variable\n",
    "\n",
    "added_series = score - score_extra\n",
    "added_series\n",
    "\n"
   ]
  }
 ],
 "metadata": {
  "interpreter": {
   "hash": "ce278d4ba1194a317b3e44dea2c8779e60a2d078201afcaaf98c031063090bbf"
  },
  "kernelspec": {
   "display_name": "Python 3.7.9 ('PythonData')",
   "language": "python",
   "name": "python3"
  },
  "language_info": {
   "codemirror_mode": {
    "name": "ipython",
    "version": 3
   },
   "file_extension": ".py",
   "mimetype": "text/x-python",
   "name": "python",
   "nbconvert_exporter": "python",
   "pygments_lexer": "ipython3",
   "version": "3.7.9"
  }
 },
 "nbformat": 4,
 "nbformat_minor": 4
}
